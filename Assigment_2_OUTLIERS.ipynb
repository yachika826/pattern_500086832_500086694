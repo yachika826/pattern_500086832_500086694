{
  "nbformat": 4,
  "nbformat_minor": 0,
  "metadata": {
    "colab": {
      "provenance": []
    },
    "kernelspec": {
      "name": "python3",
      "display_name": "Python 3"
    },
    "language_info": {
      "name": "python"
    }
  },
  "cells": [
    {
      "cell_type": "code",
      "source": [
        "import numpy as np\n",
        "import pandas as pd\n",
        "from scipy.stats import zscore\n",
        "\n",
        "# Load the dataset\n",
        "df = pd.read_csv('BANKNIFTY.json')\n",
        "\n",
        "# Compute z-scores for each column\n",
        "z_scores = np.abs(zscore(df))\n",
        "\n",
        "# Set a threshold for identifying outliers\n",
        "threshold = 3\n",
        "\n",
        "# Find outliers\n",
        "outliers = np.where(z_scores > threshold)\n",
        "\n",
        "# Print the indices and values of the outliers\n",
        "for column, row in zip(*outliers):\n",
        "    value = df.iloc[row, column]\n",
        "    print(f\"Outlier found at index ({row}, {column}). Value: {value}\")\n"
      ],
      "metadata": {
        "id": "Ms2eEduhQ9zJ"
      },
      "execution_count": null,
      "outputs": []
    }
  ]
}