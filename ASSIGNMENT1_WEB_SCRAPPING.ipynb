{
 "cells": [
  {
   "cell_type": "code",
   "execution_count": null,
   "id": "ca3cbdd6",
   "metadata": {},
   "outputs": [],
   "source": [
    "import json\n",
    "import requests\n",
    "from bs4 import BeautifulSoup\n",
    "\n",
    "with open('BANKNIFTY.json') as jsonFile:\n",
    "    data = json.load(jsonFile)\n",
    "\n",
    "def web_crawl(data):\n",
    "    for item in data:\n",
    "        url = item['url']\n",
    "        # Send HTTP GET request to the URL\n",
    "        response = requests.get(url)\n",
    "        # Parse the HTML content\n",
    "        soup = BeautifulSoup(response.content, 'html.parser')\n",
    "        # Extract desired information from the HTML using BeautifulSoup methods\n",
    "        # Perform further processing or store the extracted data as needed\n",
    "        # Example: Print the title of the webpage\n",
    "        print(soup.title.text)\n",
    "\n",
    "# Specify the path to the JSON file\n",
    "json_file_path = 'BANKNIFTY.json'\n",
    "\n",
    "# Read data from JSON file\n",
    "data = read_json_file(E:\\anshita_pattern)\n",
    "\n",
    "# Perform web crawling using the data\n",
    "web_crawl(data)\n"
   ]
  },
  {
   "cell_type": "code",
   "execution_count": null,
   "id": "690feba8",
   "metadata": {},
   "outputs": [],
   "source": []
  }
 ],
 "metadata": {
  "kernelspec": {
   "display_name": "Python 3 (ipykernel)",
   "language": "python",
   "name": "python3"
  },
  "language_info": {
   "codemirror_mode": {
    "name": "ipython",
    "version": 3
   },
   "file_extension": ".py",
   "mimetype": "text/x-python",
   "name": "python",
   "nbconvert_exporter": "python",
   "pygments_lexer": "ipython3",
   "version": "3.9.5"
  }
 },
 "nbformat": 4,
 "nbformat_minor": 5
}
