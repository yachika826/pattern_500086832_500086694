{
 "cells": [
  {
   "cell_type": "code",
   "execution_count": 2,
   "id": "509f9322",
   "metadata": {},
  ,
   "source": [
    "import numpy as np\n",
    "import pandas as pd\n",
    "from scipy.stats import zscore\n",
    "import json\n",
    "\n",
    "with open('BANKNIFTY.json') as jsonFile:\n",
    "    data = json.load(jsonFile)\n",
    "\n",
    "\n",
    "# Compute z-scores for each column\n",
    "z_scores = np.abs(zscore(df))\n",
    "\n",
    "# Set a threshold for identifying outliers\n",
    "threshold = 3\n",
    "\n",
    "# Find outliers\n",
    "outliers = np.where(z_scores > threshold)\n",
    "\n",
    "# Print the indices and values of the outliers\n",
    "for column, row in zip(*outliers):\n",
    "    value = df.iloc[row, column]\n",
    "    print(f\"Outlier found at index ({row}, {column}). Value: {value}\")\n"
   ]
  },
  {
   "cell_type": "code",
   "execution_count": null,
   "id": "5795f349",
   "metadata": {},
   "outputs": [],
   "source": []
  }
 ],
 "metadata": {
  "kernelspec": {
   "display_name": "Python 3 (ipykernel)",
   "language": "python",
   "name": "python3"
  },
  "language_info": {
   "codemirror_mode": {
    "name": "ipython",
    "version": 3
   },
   "file_extension": ".py",
   "mimetype": "text/x-python",
   "name": "python",
   "nbconvert_exporter": "python",
   "pygments_lexer": "ipython3",
   "version": "3.9.5"
  }
 },
 "nbformat": 4,
 "nbformat_minor": 5
}
